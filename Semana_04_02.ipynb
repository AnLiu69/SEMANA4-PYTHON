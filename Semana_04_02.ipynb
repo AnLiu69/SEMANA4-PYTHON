{
  "nbformat": 4,
  "nbformat_minor": 0,
  "metadata": {
    "colab": {
      "provenance": [],
      "authorship_tag": "ABX9TyPqXEHPmgRcMiMmi+IP7FxT",
      "include_colab_link": true
    },
    "kernelspec": {
      "name": "python3",
      "display_name": "Python 3"
    },
    "language_info": {
      "name": "python"
    }
  },
  "cells": [
    {
      "cell_type": "markdown",
      "metadata": {
        "id": "view-in-github",
        "colab_type": "text"
      },
      "source": [
        "<a href=\"https://colab.research.google.com/github/AnLiu69/SEMANA4-PYTHON/blob/main/Semana_04_02.ipynb\" target=\"_parent\"><img src=\"https://colab.research.google.com/assets/colab-badge.svg\" alt=\"Open In Colab\"/></a>"
      ]
    },
    {
      "cell_type": "markdown",
      "source": [
        "# Semana 4\n",
        "Rodrigo Melecio Flores Mayta\n",
        "# Agenda\n",
        "1. Números\n",
        "2. Variables\n",
        "3. Manejo de Cadenas\n",
        "4. ingreso por teclado\n",
        "5. Operadores\n",
        "\n",
        "#2. Variables"
      ],
      "metadata": {
        "id": "bP428wjlO-Jy"
      }
    },
    {
      "cell_type": "code",
      "source": [
        "#Se deben iniciar siempre coon una letra o un guión abajo (Nunca con un número u otro símbolo)\n"
      ],
      "metadata": {
        "id": "tSdiWCG6PXn5"
      },
      "execution_count": null,
      "outputs": []
    },
    {
      "cell_type": "code",
      "source": [
        "edad = 21"
      ],
      "metadata": {
        "id": "Hd4GhNoXPbww"
      },
      "execution_count": null,
      "outputs": []
    },
    {
      "cell_type": "code",
      "source": [
        "edad"
      ],
      "metadata": {
        "colab": {
          "base_uri": "https://localhost:8080/"
        },
        "id": "Gjzvic9zPtuX",
        "outputId": "6ab08031-d683-4db0-be3d-188a6436f155"
      },
      "execution_count": null,
      "outputs": [
        {
          "output_type": "execute_result",
          "data": {
            "text/plain": [
              "21"
            ]
          },
          "metadata": {},
          "execution_count": 3
        }
      ]
    },
    {
      "cell_type": "code",
      "source": [
        "nombre = \"JEAMPIER\""
      ],
      "metadata": {
        "id": "gL_Ex7ErPuhg"
      },
      "execution_count": null,
      "outputs": []
    },
    {
      "cell_type": "code",
      "source": [
        "nombre"
      ],
      "metadata": {
        "colab": {
          "base_uri": "https://localhost:8080/",
          "height": 35
        },
        "id": "zQwv9wCcP_NX",
        "outputId": "24ae6cd0-cbf8-4fcc-976e-db516ce03e8a"
      },
      "execution_count": null,
      "outputs": [
        {
          "output_type": "execute_result",
          "data": {
            "text/plain": [
              "'JEAMPIER'"
            ],
            "application/vnd.google.colaboratory.intrinsic+json": {
              "type": "string"
            }
          },
          "metadata": {},
          "execution_count": 5
        }
      ]
    },
    {
      "cell_type": "code",
      "source": [
        "apellido = \"Barrios Quispe\""
      ],
      "metadata": {
        "id": "s7862ggPQAG3"
      },
      "execution_count": null,
      "outputs": []
    },
    {
      "cell_type": "code",
      "source": [
        "nombrecompleto = nombre + \" \" + apellido"
      ],
      "metadata": {
        "id": "6gtCK9xiQS5O"
      },
      "execution_count": null,
      "outputs": []
    },
    {
      "cell_type": "code",
      "source": [
        "nombrecompleto"
      ],
      "metadata": {
        "colab": {
          "base_uri": "https://localhost:8080/",
          "height": 35
        },
        "id": "pswgrsvaQiDm",
        "outputId": "b2d52927-67a0-473c-e977-9a0d83bfcf79"
      },
      "execution_count": null,
      "outputs": [
        {
          "output_type": "execute_result",
          "data": {
            "text/plain": [
              "'JEAMPIER Barrios Quispe'"
            ],
            "application/vnd.google.colaboratory.intrinsic+json": {
              "type": "string"
            }
          },
          "metadata": {},
          "execution_count": 15
        }
      ]
    },
    {
      "cell_type": "code",
      "source": [
        "nombrecompleto = nombre + \" \" + apellido"
      ],
      "metadata": {
        "id": "r53TvOkdQksW"
      },
      "execution_count": null,
      "outputs": []
    },
    {
      "cell_type": "code",
      "source": [
        "nombrecompleto"
      ],
      "metadata": {
        "colab": {
          "base_uri": "https://localhost:8080/",
          "height": 35
        },
        "id": "jgYvNj2ZQwGt",
        "outputId": "e6170a22-52ec-4bdb-881d-201e354bb769"
      },
      "execution_count": null,
      "outputs": [
        {
          "output_type": "execute_result",
          "data": {
            "text/plain": [
              "'JEAMPIER Barrios Quispe'"
            ],
            "application/vnd.google.colaboratory.intrinsic+json": {
              "type": "string"
            }
          },
          "metadata": {},
          "execution_count": 13
        }
      ]
    },
    {
      "cell_type": "code",
      "source": [
        "# Para saber el tipo de variable utilizamos la función type)()\n",
        "# Por ejemplo:\n",
        "\n",
        "numero = 50\n",
        "type (numero)"
      ],
      "metadata": {
        "colab": {
          "base_uri": "https://localhost:8080/"
        },
        "id": "UXljizDwQyBc",
        "outputId": "4709674d-c45b-4db1-a7f3-cf9303ff61c6"
      },
      "execution_count": null,
      "outputs": [
        {
          "output_type": "execute_result",
          "data": {
            "text/plain": [
              "int"
            ]
          },
          "metadata": {},
          "execution_count": 16
        }
      ]
    },
    {
      "cell_type": "code",
      "source": [
        "talla = 1.66"
      ],
      "metadata": {
        "id": "PDN7UM3SRJe8"
      },
      "execution_count": null,
      "outputs": []
    },
    {
      "cell_type": "code",
      "source": [
        "talla"
      ],
      "metadata": {
        "colab": {
          "base_uri": "https://localhost:8080/"
        },
        "id": "sJ0hcj6yRafD",
        "outputId": "9af1d158-3c06-45d6-e358-35c13aef3214"
      },
      "execution_count": null,
      "outputs": [
        {
          "output_type": "execute_result",
          "data": {
            "text/plain": [
              "1.66"
            ]
          },
          "metadata": {},
          "execution_count": 18
        }
      ]
    },
    {
      "cell_type": "code",
      "source": [
        "type(talla)"
      ],
      "metadata": {
        "colab": {
          "base_uri": "https://localhost:8080/"
        },
        "id": "WDDaOFnfRbQj",
        "outputId": "65c1db9c-d86e-4f09-c22d-65aebd59ee60"
      },
      "execution_count": null,
      "outputs": [
        {
          "output_type": "execute_result",
          "data": {
            "text/plain": [
              "float"
            ]
          },
          "metadata": {},
          "execution_count": 19
        }
      ]
    },
    {
      "cell_type": "code",
      "source": [
        "# Para convertir un numero en cadena utilizamos str()\n",
        "numero = 100\n",
        "cadena = str(numero)\n",
        "cadena"
      ],
      "metadata": {
        "colab": {
          "base_uri": "https://localhost:8080/",
          "height": 35
        },
        "id": "b-ybRuvHRd9j",
        "outputId": "e4a1ff9f-2d2b-49bb-8f88-be6189a0efb3"
      },
      "execution_count": null,
      "outputs": [
        {
          "output_type": "execute_result",
          "data": {
            "text/plain": [
              "'100'"
            ],
            "application/vnd.google.colaboratory.intrinsic+json": {
              "type": "string"
            }
          },
          "metadata": {},
          "execution_count": 20
        }
      ]
    },
    {
      "cell_type": "code",
      "source": [
        "type(cadena)"
      ],
      "metadata": {
        "colab": {
          "base_uri": "https://localhost:8080/"
        },
        "id": "5ZKhBw78Rq6K",
        "outputId": "acd5f310-962f-4b5c-bed7-4ae9d18f9dac"
      },
      "execution_count": null,
      "outputs": [
        {
          "output_type": "execute_result",
          "data": {
            "text/plain": [
              "str"
            ]
          },
          "metadata": {},
          "execution_count": 21
        }
      ]
    },
    {
      "cell_type": "code",
      "source": [
        "# Para convertir una cadena en entero utilizamos int()\n",
        "cadena2= \"50\"\n",
        "numero2 = int(cadena2)\n",
        "numero2"
      ],
      "metadata": {
        "colab": {
          "base_uri": "https://localhost:8080/"
        },
        "id": "0Ie4o4qcRyvi",
        "outputId": "091eefd1-7b3f-47e2-859a-21aa1f71bea2"
      },
      "execution_count": null,
      "outputs": [
        {
          "output_type": "execute_result",
          "data": {
            "text/plain": [
              "50"
            ]
          },
          "metadata": {},
          "execution_count": 23
        }
      ]
    },
    {
      "cell_type": "code",
      "source": [
        "# Para convertir una cadena a un decimal utilizamos float()\n",
        "cadena3 = \"50\"\n",
        "numero3 = float(cadena3)\n",
        "numero3"
      ],
      "metadata": {
        "colab": {
          "base_uri": "https://localhost:8080/"
        },
        "id": "_2kjiXasSC9J",
        "outputId": "a9a0ca53-8355-4a9f-b937-3c0c9330a306"
      },
      "execution_count": null,
      "outputs": [
        {
          "output_type": "execute_result",
          "data": {
            "text/plain": [
              "50.0"
            ]
          },
          "metadata": {},
          "execution_count": 24
        }
      ]
    },
    {
      "cell_type": "code",
      "source": [
        "type(numero3)"
      ],
      "metadata": {
        "colab": {
          "base_uri": "https://localhost:8080/"
        },
        "id": "0_0h7kHTSUJw",
        "outputId": "76bbcdc9-f86a-4fcd-eee4-6f3d07f78db2"
      },
      "execution_count": null,
      "outputs": [
        {
          "output_type": "execute_result",
          "data": {
            "text/plain": [
              "float"
            ]
          },
          "metadata": {},
          "execution_count": 25
        }
      ]
    },
    {
      "cell_type": "code",
      "source": [],
      "metadata": {
        "id": "H1OjLFN2SXSQ"
      },
      "execution_count": null,
      "outputs": []
    }
  ]
}