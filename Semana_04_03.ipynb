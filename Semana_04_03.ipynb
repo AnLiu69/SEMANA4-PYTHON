{
  "nbformat": 4,
  "nbformat_minor": 0,
  "metadata": {
    "colab": {
      "provenance": [],
      "authorship_tag": "ABX9TyOxnVPP4ijNb0YsFieHaEjS",
      "include_colab_link": true
    },
    "kernelspec": {
      "name": "python3",
      "display_name": "Python 3"
    },
    "language_info": {
      "name": "python"
    }
  },
  "cells": [
    {
      "cell_type": "markdown",
      "metadata": {
        "id": "view-in-github",
        "colab_type": "text"
      },
      "source": [
        "<a href=\"https://colab.research.google.com/github/AnLiu69/SEMANA4-PYTHON/blob/main/Semana_04_03.ipynb\" target=\"_parent\"><img src=\"https://colab.research.google.com/assets/colab-badge.svg\" alt=\"Open In Colab\"/></a>"
      ]
    },
    {
      "cell_type": "markdown",
      "source": [
        "# Semana 4\n",
        "Rodrigo Melecio Flores Mayta\n",
        "# Agenda\n",
        "1. Números\n",
        "2. Variables\n",
        "3. Manejo de Cadenas\n",
        "4. ingreso por teclado\n",
        "5. Operadores\n",
        "\n",
        "#3. Manejo de Cadenas"
      ],
      "metadata": {
        "id": "ua27V2_zS91l"
      }
    },
    {
      "cell_type": "code",
      "source": [
        "cadena = \"Universidad Tecnológica de Lima Sur\""
      ],
      "metadata": {
        "id": "ua9XkwT_TBPN"
      },
      "execution_count": null,
      "outputs": []
    },
    {
      "cell_type": "code",
      "source": [
        "cadena"
      ],
      "metadata": {
        "colab": {
          "base_uri": "https://localhost:8080/",
          "height": 35
        },
        "id": "L8Sz-dEETfxA",
        "outputId": "02426de7-2feb-4d76-b302-6a406d2f9b04"
      },
      "execution_count": null,
      "outputs": [
        {
          "output_type": "execute_result",
          "data": {
            "text/plain": [
              "'Universidad Tecnológica de Lima Sur'"
            ],
            "application/vnd.google.colaboratory.intrinsic+json": {
              "type": "string"
            }
          },
          "metadata": {},
          "execution_count": 3
        }
      ]
    },
    {
      "cell_type": "code",
      "source": [
        "# Universidad Nacional Tecnologica de lima Sur\n",
        "# 0123...\n"
      ],
      "metadata": {
        "id": "mQD980UoTgYw"
      },
      "execution_count": null,
      "outputs": []
    },
    {
      "cell_type": "code",
      "source": [
        "cadena[5]"
      ],
      "metadata": {
        "colab": {
          "base_uri": "https://localhost:8080/",
          "height": 35
        },
        "id": "i8N2w6EuTtw7",
        "outputId": "96fd1ab2-44b3-4edd-9de3-c6087bb707f8"
      },
      "execution_count": null,
      "outputs": [
        {
          "output_type": "execute_result",
          "data": {
            "text/plain": [
              "'r'"
            ],
            "application/vnd.google.colaboratory.intrinsic+json": {
              "type": "string"
            }
          },
          "metadata": {},
          "execution_count": 5
        }
      ]
    },
    {
      "cell_type": "code",
      "source": [
        "cadena[10]"
      ],
      "metadata": {
        "colab": {
          "base_uri": "https://localhost:8080/",
          "height": 35
        },
        "id": "rAoJVWypTwor",
        "outputId": "8f4d26bc-8c46-4bf4-a5a5-9fc14636e805"
      },
      "execution_count": null,
      "outputs": [
        {
          "output_type": "execute_result",
          "data": {
            "text/plain": [
              "'d'"
            ],
            "application/vnd.google.colaboratory.intrinsic+json": {
              "type": "string"
            }
          },
          "metadata": {},
          "execution_count": 6
        }
      ]
    },
    {
      "cell_type": "code",
      "source": [
        "#Tambien considera los espacios en blanco\n",
        "cadena[11]"
      ],
      "metadata": {
        "colab": {
          "base_uri": "https://localhost:8080/",
          "height": 35
        },
        "id": "97qW-JxST5D0",
        "outputId": "42550b1c-b835-4f14-ffa0-840b0a031160"
      },
      "execution_count": null,
      "outputs": [
        {
          "output_type": "execute_result",
          "data": {
            "text/plain": [
              "' '"
            ],
            "application/vnd.google.colaboratory.intrinsic+json": {
              "type": "string"
            }
          },
          "metadata": {},
          "execution_count": 7
        }
      ]
    },
    {
      "cell_type": "code",
      "source": [
        "cadena[-5]"
      ],
      "metadata": {
        "colab": {
          "base_uri": "https://localhost:8080/",
          "height": 35
        },
        "id": "WYnoSOPNT7VT",
        "outputId": "64c791ab-0314-4ce1-e57e-4e89050bbae1"
      },
      "execution_count": null,
      "outputs": [
        {
          "output_type": "execute_result",
          "data": {
            "text/plain": [
              "'a'"
            ],
            "application/vnd.google.colaboratory.intrinsic+json": {
              "type": "string"
            }
          },
          "metadata": {},
          "execution_count": 8
        }
      ]
    },
    {
      "cell_type": "code",
      "source": [
        "cadena[21]"
      ],
      "metadata": {
        "colab": {
          "base_uri": "https://localhost:8080/",
          "height": 35
        },
        "id": "SPKE7jdnUMRt",
        "outputId": "74d7d769-e5dd-4e87-e3ab-200eb1f59dda"
      },
      "execution_count": null,
      "outputs": [
        {
          "output_type": "execute_result",
          "data": {
            "text/plain": [
              "'c'"
            ],
            "application/vnd.google.colaboratory.intrinsic+json": {
              "type": "string"
            }
          },
          "metadata": {},
          "execution_count": 9
        }
      ]
    },
    {
      "cell_type": "code",
      "source": [
        "cadena[-23]"
      ],
      "metadata": {
        "colab": {
          "base_uri": "https://localhost:8080/",
          "height": 35
        },
        "id": "ZZ6HiE-QUSMX",
        "outputId": "9297133a-aba4-4db6-a04e-9fe205b02eb0"
      },
      "execution_count": null,
      "outputs": [
        {
          "output_type": "execute_result",
          "data": {
            "text/plain": [
              "'T'"
            ],
            "application/vnd.google.colaboratory.intrinsic+json": {
              "type": "string"
            }
          },
          "metadata": {},
          "execution_count": 10
        }
      ]
    },
    {
      "cell_type": "code",
      "source": [
        "#Para mostrar un subcadena [desde, hasta una antes]\n",
        "#En java era substring()\n",
        "cadena[3:8]"
      ],
      "metadata": {
        "colab": {
          "base_uri": "https://localhost:8080/",
          "height": 35
        },
        "id": "XgeR6sT0UTXX",
        "outputId": "43919c73-b4d7-44d7-93b4-31a8a2d5ee20"
      },
      "execution_count": null,
      "outputs": [
        {
          "output_type": "execute_result",
          "data": {
            "text/plain": [
              "'versi'"
            ],
            "application/vnd.google.colaboratory.intrinsic+json": {
              "type": "string"
            }
          },
          "metadata": {},
          "execution_count": 11
        }
      ]
    },
    {
      "cell_type": "code",
      "source": [
        "#Para saber el tamaño de una cadena utilizamos len()\n",
        "#Incluye espacios en blanco\n",
        "len(cadena)"
      ],
      "metadata": {
        "colab": {
          "base_uri": "https://localhost:8080/"
        },
        "id": "mjieQzrPUgWy",
        "outputId": "1c3a5732-83b6-4e7e-db3e-1f39d1f6dd59"
      },
      "execution_count": null,
      "outputs": [
        {
          "output_type": "execute_result",
          "data": {
            "text/plain": [
              "35"
            ]
          },
          "metadata": {},
          "execution_count": 14
        }
      ]
    },
    {
      "cell_type": "code",
      "source": [
        "#Para mostrar una cadena en mayuscula utilizamos upper()\n",
        "cadena.upper()"
      ],
      "metadata": {
        "colab": {
          "base_uri": "https://localhost:8080/",
          "height": 35
        },
        "id": "NwdSzmkOVDXl",
        "outputId": "156eac62-9d44-4cf6-f9fb-241fcbaddac6"
      },
      "execution_count": null,
      "outputs": [
        {
          "output_type": "execute_result",
          "data": {
            "text/plain": [
              "'UNIVERSIDAD TECNOLÓGICA DE LIMA SUR'"
            ],
            "application/vnd.google.colaboratory.intrinsic+json": {
              "type": "string"
            }
          },
          "metadata": {},
          "execution_count": 15
        }
      ]
    },
    {
      "cell_type": "code",
      "source": [
        "cadena.lower()"
      ],
      "metadata": {
        "colab": {
          "base_uri": "https://localhost:8080/",
          "height": 35
        },
        "id": "cgumnrusVYX_",
        "outputId": "9e82e50b-69fc-4be0-91d3-66ff580e645f"
      },
      "execution_count": null,
      "outputs": [
        {
          "output_type": "execute_result",
          "data": {
            "text/plain": [
              "'universidad tecnológica de lima sur'"
            ],
            "application/vnd.google.colaboratory.intrinsic+json": {
              "type": "string"
            }
          },
          "metadata": {},
          "execution_count": 16
        }
      ]
    },
    {
      "cell_type": "code",
      "source": [
        "cadena"
      ],
      "metadata": {
        "colab": {
          "base_uri": "https://localhost:8080/",
          "height": 35
        },
        "id": "6tTHoN2-Vc0J",
        "outputId": "47f7e5d4-c9de-45bf-c380-5f43da89472b"
      },
      "execution_count": null,
      "outputs": [
        {
          "output_type": "execute_result",
          "data": {
            "text/plain": [
              "'Universidad Tecnológica de Lima Sur'"
            ],
            "application/vnd.google.colaboratory.intrinsic+json": {
              "type": "string"
            }
          },
          "metadata": {},
          "execution_count": 17
        }
      ]
    },
    {
      "cell_type": "code",
      "source": [
        "#Generar una lista a partir de una cadena. split()\n",
        "sur = cadena.split()[-1]\n",
        "sur"
      ],
      "metadata": {
        "colab": {
          "base_uri": "https://localhost:8080/",
          "height": 35
        },
        "id": "BjA9Y8q5Vd-o",
        "outputId": "edcdfc5c-c48b-4913-f920-e972adc774e8"
      },
      "execution_count": null,
      "outputs": [
        {
          "output_type": "execute_result",
          "data": {
            "text/plain": [
              "'Sur'"
            ],
            "application/vnd.google.colaboratory.intrinsic+json": {
              "type": "string"
            }
          },
          "metadata": {},
          "execution_count": 25
        }
      ]
    },
    {
      "cell_type": "code",
      "source": [
        "#Forma clásica, concatenar con +\n",
        "nombre = \"Rodrigo\"\n",
        "print(\"Buenos días \" + nombre)\n"
      ],
      "metadata": {
        "colab": {
          "base_uri": "https://localhost:8080/"
        },
        "id": "3i6VpfBZVrqy",
        "outputId": "e0aa37a9-c0d1-410d-86bf-8801e083846e"
      },
      "execution_count": null,
      "outputs": [
        {
          "output_type": "stream",
          "name": "stdout",
          "text": [
            "Buenos días Rodrigo\n"
          ]
        }
      ]
    },
    {
      "cell_type": "code",
      "source": [
        "#Utilizando el .format()\n",
        "nombre = \"Jeampier Barrios\"\n",
        "edad = 21\n",
        "print(\"Hola {} ya se que tienes {} años\" .format(nombre, edad))"
      ],
      "metadata": {
        "colab": {
          "base_uri": "https://localhost:8080/"
        },
        "id": "hXiBgl5LXsIW",
        "outputId": "2e2052f3-b724-4c8f-b0c9-c9524439e667"
      },
      "execution_count": null,
      "outputs": [
        {
          "output_type": "stream",
          "name": "stdout",
          "text": [
            "Hola Jeampier Barrios ya se que tienes 21 años\n"
          ]
        }
      ]
    },
    {
      "cell_type": "code",
      "source": [
        "#Dar formato a números con muchos decimales\n",
        "resultado = 10/3\n",
        "print (\"10/3 es = {}\".format(resultado))\n",
        "print(\"10/3 es = {r:1.6f}\".format(r=resultado))"
      ],
      "metadata": {
        "colab": {
          "base_uri": "https://localhost:8080/"
        },
        "id": "MJ4I1J7eYT4N",
        "outputId": "95012d29-5255-43f3-f9fe-20e1c7da8ce5"
      },
      "execution_count": null,
      "outputs": [
        {
          "output_type": "stream",
          "name": "stdout",
          "text": [
            "10/3 es = 3.3333333333333335\n",
            "10/3 es = 3.333333\n"
          ]
        }
      ]
    },
    {
      "cell_type": "code",
      "source": [
        "#Dar formato con f\n",
        "#La función f, está disponible desde la versión 3.6\n",
        "nombre = \"Dafne Huertas\"\n",
        "edad = 19\n",
        "print(f\"Buenos dias {nombre}, ya se que tienes {edad} años\")"
      ],
      "metadata": {
        "colab": {
          "base_uri": "https://localhost:8080/"
        },
        "id": "Wsit7APHYvsU",
        "outputId": "971cb8ae-99a5-4c85-9eed-292f6c3d6f52"
      },
      "execution_count": null,
      "outputs": [
        {
          "output_type": "stream",
          "name": "stdout",
          "text": [
            "Buenos dias Dafne Huertas, ya se que tienes 19 años\n"
          ]
        }
      ]
    },
    {
      "cell_type": "code",
      "source": [
        "#Dar formato a números con muchos decimales con con f\n",
        "resultado = 10/3\n",
        "print(f\"10/3 es = {resultado}\")\n",
        "print(f\"10/3 es = {resultado:1.3f}\")"
      ],
      "metadata": {
        "colab": {
          "base_uri": "https://localhost:8080/"
        },
        "id": "XNxv9WZwZRwM",
        "outputId": "9d5c2763-1cd6-4467-cee2-c6b7a45010f6"
      },
      "execution_count": null,
      "outputs": [
        {
          "output_type": "stream",
          "name": "stdout",
          "text": [
            "10/3 es = 3.3333333333333335\n",
            "10/3 es = 3.333\n"
          ]
        }
      ]
    },
    {
      "cell_type": "code",
      "source": [],
      "metadata": {
        "id": "X0xAkkNwZ6Uv"
      },
      "execution_count": null,
      "outputs": []
    }
  ]
}