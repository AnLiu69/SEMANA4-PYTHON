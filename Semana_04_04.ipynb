{
  "nbformat": 4,
  "nbformat_minor": 0,
  "metadata": {
    "colab": {
      "provenance": [],
      "authorship_tag": "ABX9TyN2/+heWP5HMIs+/Qbul7zn",
      "include_colab_link": true
    },
    "kernelspec": {
      "name": "python3",
      "display_name": "Python 3"
    },
    "language_info": {
      "name": "python"
    }
  },
  "cells": [
    {
      "cell_type": "markdown",
      "metadata": {
        "id": "view-in-github",
        "colab_type": "text"
      },
      "source": [
        "<a href=\"https://colab.research.google.com/github/AnLiu69/SEMANA4-PYTHON/blob/main/Semana_04_04.ipynb\" target=\"_parent\"><img src=\"https://colab.research.google.com/assets/colab-badge.svg\" alt=\"Open In Colab\"/></a>"
      ]
    },
    {
      "cell_type": "markdown",
      "source": [
        "# Semana 4\n",
        "Rodrigo Melecio Flores Mayta\n",
        "# Agenda\n",
        "1. Números\n",
        "2. Variables\n",
        "3. Manejo de Cadenas\n",
        "4. ingreso por teclado\n",
        "5. Operadores\n",
        "\n",
        "#4. Ingreso por el teclado\n"
      ],
      "metadata": {
        "id": "8Ug0R2qLbhBX"
      }
    },
    {
      "cell_type": "code",
      "source": [
        "# Función input()\n",
        "print(\"¿Cuál es tu nombre?\")\n",
        "nombre = input()\n",
        "print(\"Hola\" + nombre)\n"
      ],
      "metadata": {
        "colab": {
          "base_uri": "https://localhost:8080/"
        },
        "id": "SAE1w6rLbkmW",
        "outputId": "d0ede7de-fc26-48e8-dc67-bf617d78c889"
      },
      "execution_count": null,
      "outputs": [
        {
          "output_type": "stream",
          "name": "stdout",
          "text": [
            "¿Cuál es tu nombre?\n",
            "Rodrigo\n",
            "HolaRodrigo\n"
          ]
        }
      ]
    },
    {
      "cell_type": "code",
      "source": [
        "# Cuando ingresa un valor por teclado lo hace como cadena\n",
        "print(\"número 1: \")\n",
        "numero1 = input()\n",
        "print(\"número 2: \")\n",
        "numero2 = input()\n",
        "numero3 = int(numero1) + int (numero2)\n",
        "print (f\"El resultado es {numero3}\")"
      ],
      "metadata": {
        "colab": {
          "base_uri": "https://localhost:8080/"
        },
        "id": "oQCqaS5lcAAY",
        "outputId": "60a80213-2722-4cee-a2b9-001e59237152"
      },
      "execution_count": null,
      "outputs": [
        {
          "output_type": "stream",
          "name": "stdout",
          "text": [
            "número 1: \n",
            "10\n",
            "número 2: \n",
            "2\n",
            "El resultado es 12\n"
          ]
        }
      ]
    },
    {
      "cell_type": "code",
      "source": [],
      "metadata": {
        "id": "gpDzkU2QcvDH"
      },
      "execution_count": null,
      "outputs": []
    }
  ]
}