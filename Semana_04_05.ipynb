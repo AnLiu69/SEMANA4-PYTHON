{
  "nbformat": 4,
  "nbformat_minor": 0,
  "metadata": {
    "colab": {
      "provenance": [],
      "authorship_tag": "ABX9TyM1bItFfSlz+5zNJqrqfOy5",
      "include_colab_link": true
    },
    "kernelspec": {
      "name": "python3",
      "display_name": "Python 3"
    },
    "language_info": {
      "name": "python"
    }
  },
  "cells": [
    {
      "cell_type": "markdown",
      "metadata": {
        "id": "view-in-github",
        "colab_type": "text"
      },
      "source": [
        "<a href=\"https://colab.research.google.com/github/AnLiu69/SEMANA4-PYTHON/blob/main/Semana_04_05.ipynb\" target=\"_parent\"><img src=\"https://colab.research.google.com/assets/colab-badge.svg\" alt=\"Open In Colab\"/></a>"
      ]
    },
    {
      "cell_type": "markdown",
      "source": [
        "# Semana 4\n",
        "Rodrigo Melecio Flores Mayta\n",
        "# Agenda\n",
        "1. Números\n",
        "2. Variables\n",
        "3. Manejo de Cadenas\n",
        "4. ingreso por teclado\n",
        "5. Operadores\n",
        "\n",
        "#5. Operadores\n"
      ],
      "metadata": {
        "id": "ccgm2Drcd_50"
      }
    },
    {
      "cell_type": "code",
      "source": [
        "# Operadores Aritméticos\n",
        "# Se tiene: +, -, *, /, **, %, //\n"
      ],
      "metadata": {
        "id": "SH8lSHrFeEG0"
      },
      "execution_count": null,
      "outputs": []
    },
    {
      "cell_type": "code",
      "source": [
        "numero1 = 10\n",
        "numero2 = 3\n",
        "suma = numero1 + numero2\n",
        "resta = numero1 - numero2\n",
        "multi = numero1 * numero2\n",
        "divi = numero1 / numero2\n",
        "potencia = numero1 ** numero2\n",
        "cociente = numero1 // numero2\n",
        "residuo = numero1 % numero2\n"
      ],
      "metadata": {
        "id": "M9CXWFvheQKZ"
      },
      "execution_count": null,
      "outputs": []
    },
    {
      "cell_type": "code",
      "source": [
        "print(f\"Los resultados son:{suma}, {resta}, {multi}, {divi:1.4f}, {potencia}, {cociente},  {residuo}\")"
      ],
      "metadata": {
        "colab": {
          "base_uri": "https://localhost:8080/"
        },
        "id": "Za2ddhH8e1W6",
        "outputId": "0c20edbe-81a5-4b73-fb75-eb103fff71f0"
      },
      "execution_count": null,
      "outputs": [
        {
          "output_type": "stream",
          "name": "stdout",
          "text": [
            "Los resultados son:13, 7, 30, 3.3333, 1000, 3,  1\n"
          ]
        }
      ]
    },
    {
      "cell_type": "code",
      "source": [],
      "metadata": {
        "id": "fCa1bypafBUq"
      },
      "execution_count": null,
      "outputs": []
    }
  ]
}